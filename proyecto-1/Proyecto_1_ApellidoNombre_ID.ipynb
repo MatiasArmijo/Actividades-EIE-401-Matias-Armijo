{
 "cells": [
  {
   "cell_type": "markdown",
   "id": "0a22500b-75f6-4e9e-bff8-e2166e04bd6a",
   "metadata": {},
   "source": [
    "<h1><center>\n",
    "\n",
    "</center></h1>\n",
    "<font size=\"6\"><center>\n",
    "EIE 401\n",
    "PROCESAMIENTO DIGITAL MULTIMEDIA \n",
    "</center></font>"
   ]
  },
  {
   "cell_type": "markdown",
   "id": "4bb821ab-49e9-40ef-8ecd-d491bba9452c",
   "metadata": {},
   "source": [
    "\n",
    "<center><h2>Proyecto 1</h2></center>\n",
    "<center><h3>Procesamiento digital de señales</h3></center>\n",
    "<center><h3>Profesor: Jorge Cardenas</h3></center>\n",
    "\n",
    "<center><h3>Por: Matias Armijo</h3></center>\n",
    "<center><h5>Pontificia Universidad Catolica de Valparaiso</h5></center>\n",
    " "
   ]
  },
  {
   "cell_type": "code",
   "execution_count": 10,
   "id": "215c84a4",
   "metadata": {},
   "outputs": [
    {
     "data": {
      "text/html": [
       "\n",
       "        <iframe\n",
       "            width=\"700\"\n",
       "            height=\"400\"\n",
       "            src=\"Proyecto_1_EIE401.pdf\"\n",
       "            frameborder=\"0\"\n",
       "            allowfullscreen\n",
       "            \n",
       "        ></iframe>\n",
       "        "
      ],
      "text/plain": [
       "<IPython.lib.display.IFrame at 0x7f573d0acf10>"
      ]
     },
     "execution_count": 10,
     "metadata": {},
     "output_type": "execute_result"
    }
   ],
   "source": [
    "from IPython.display import IFrame, display\n",
    "filepath = \"Proyecto_1_EIE401.pdf\"\n",
    "IFrame(filepath, width=700, height=400)"
   ]
  },
  {
   "cell_type": "markdown",
   "id": "c63b11e7",
   "metadata": {},
   "source": [
    "Debes usar el sitio https://gwosc.org/eventapi/html/GWTC/, donde encuentras todo el catálogo de observaciones con los datos en diferentes formatos. Debes seleccionar una detección para tu estudio y descargar los datos correspondientes (H5 o TXT), lo que posteriormente deberás tratar de manera digital como audio (serie de tiempo).\n",
    "tip: Te recomiendo tomar la serie de tiempo corta (32 segundos) para facilitar el análisis, y asegurarte de tomar la tasa de muestreo más alta.\n",
    "tip: Asegúrate de tomar un caso cuyo espectrograma de muestra, indique una señal clara y fuerte para facilitar tu trabajo, de otra forma es posible que no logres aislarla lo suficiente.\n"
   ]
  },
  {
   "cell_type": "markdown",
   "id": "f0889ee3-d16b-49e3-be4b-a4c94f28701d",
   "metadata": {},
   "source": [
    "## 1. Carga de Datos\n"
   ]
  },
  {
   "cell_type": "markdown",
   "id": "567bb56f",
   "metadata": {},
   "source": []
  },
  {
   "cell_type": "code",
   "execution_count": 11,
   "id": "d0ab6ee5-d7a3-4cf7-9aee-1d1a76b5525f",
   "metadata": {
    "tags": []
   },
   "outputs": [
    {
     "data": {
      "text/plain": [
       "(0.0, 15000.0)"
      ]
     },
     "execution_count": 11,
     "metadata": {},
     "output_type": "execute_result"
    },
    {
     "data": {
      "image/png": "[encoded data removed]",
      "text/plain": [
       "<Figure size 640x480 with 1 Axes>"
      ]
     },
     "metadata": {},
     "output_type": "display_data"
    }
   ],
   "source": [
    "import gzip\n",
    "import shutil\n",
    "import numpy as np\n",
    "import matplotlib.pyplot as plt\n",
    "\n",
    "ruta_archivo_comprimido = 'H-H1_GWOSC_16KHZ_R1-1268903496-32.txt.gz'\n",
    "ruta_archivo_descomprimido = 'archivo_descomprimido.txt'\n",
    "\n",
    "with gzip.open(ruta_archivo_comprimido, 'rb') as archivo_comprimido:\n",
    "    with open(ruta_archivo_descomprimido,'wb') as archivo_descomprimido:\n",
    "            shutil.copyfileobj(archivo_comprimido, archivo_descomprimido)\n",
    "\n",
    "ruta_archivo = \"archivo_descomprimido.txt\"\n",
    "\n",
    "strain = np.loadtxt(ruta_archivo, delimiter = ',', skiprows = 1, dtype=float)\n",
    "\n",
    "plt.plot(strain)\n",
    "plt.xlim(0,15000)"
   ]
  },
  {
   "cell_type": "markdown",
   "id": "28db8b8d",
   "metadata": {},
   "source": [
    "## 2. Convertir en audio\n",
    "Es una forma de validar que tenemos un alto componente de ruido en la señal y que el interés es eliminarlo para encontrar una señal candidata.\n",
    "\n",
    "Te recomiendo hacer una señal de audio de cada uno de las etapas para así validar como va el proceso. Al final deberás obtener un señal con CHIRP o BUMP. Son sonidos que comprueban que tienes una cantidad de potencia que sobre destaca sobre el ruido."
   ]
  },
  {
   "cell_type": "code",
   "execution_count": null,
   "id": "3cf800d9",
   "metadata": {},
   "outputs": [],
   "source": [
    "from "
   ]
  },
  {
   "cell_type": "code",
   "execution_count": null,
   "id": "d82fee98",
   "metadata": {},
   "outputs": [],
   "source": []
  },
  {
   "cell_type": "markdown",
   "id": "c64b67c8",
   "metadata": {},
   "source": [
    "## 3. Análisis de Fourier\n",
    "Al realizar la conversión, queremos ver cuales son las componentes de ruido que más afectan al instrumento y debemos ignorar en el análisis. Eso se ve como \"pico\" o la apariencia de \"peine\".\n",
    "Se debe presenta la densidad espectral de potencia antes y después de la función de Windowing.\n"
   ]
  },
  {
   "cell_type": "code",
   "execution_count": null,
   "id": "16275ac1",
   "metadata": {},
   "outputs": [],
   "source": []
  },
  {
   "cell_type": "markdown",
   "id": "55e692dd",
   "metadata": {},
   "source": [
    "## 4. Procesamiento \n",
    "Debes inferir de tu estudio, cual es el proceso que aplican a la señal y reproducirlo. Es posible que cada estudiante llegue a una solución más o menos diferente, pues no hay un código abierto donde esté el procedimiento completo.\n"
   ]
  },
  {
   "cell_type": "code",
   "execution_count": null,
   "id": "8e7dfee1",
   "metadata": {},
   "outputs": [],
   "source": []
  },
  {
   "cell_type": "markdown",
   "id": "550b44f5",
   "metadata": {},
   "source": [
    "# Resampling\n",
    "Para lograr una mejor definición de la señal, se debe hacer un resampleo. Esto tienen consecuencias por eso debe elegirse bien la frecuencia de tal forma que no se introduzca ruido."
   ]
  },
  {
   "cell_type": "code",
   "execution_count": null,
   "id": "7a7f2afc",
   "metadata": {},
   "outputs": [],
   "source": []
  },
  {
   "cell_type": "markdown",
   "id": "3add46e0-f5e2-4a20-8830-3e795f78d2a0",
   "metadata": {},
   "source": []
  }
 ],
 "metadata": {
  "kernelspec": {
   "display_name": "Python 3 (ipykernel)",
   "language": "python",
   "name": "python3"
  },
  "language_info": {
   "codemirror_mode": {
    "name": "ipython",
    "version": 3
   },
   "file_extension": ".py",
   "mimetype": "text/x-python",
   "name": "python",
   "nbconvert_exporter": "python",
   "pygments_lexer": "ipython3",
   "version": "3.11.2"
  }
 },
 "nbformat": 4,
 "nbformat_minor": 5
}
