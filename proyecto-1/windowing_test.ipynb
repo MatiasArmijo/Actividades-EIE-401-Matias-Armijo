{
 "cells": [
  {
   "cell_type": "code",
   "execution_count": null,
   "metadata": {},
   "outputs": [],
   "source": [
    "\"\"\"https://gwosc.org/o1speclines/\n",
    "The peaks that are most noticeable to the eye are all believed to be due to known instrumental effects:\n",
    "\n",
    "60 Hz power line harmonics around 60*n Hz, due to upconversion of low-frequency sesimic noise. These arise due to imperfect electromagnetic shielding, and magnetic coupling to the mirror suspensions.\n",
    "Thermally excited mirror suspension \"violin modes\" at ~500 Hz and and harmonics (1000, 1500, 2000 Hz). There is a \"forest\" of them due to the numerous mirror suspension fibers in the LIGO interferometers. These are an unfortunate but inevitable part of the LIGO detector design.\n",
    "The bounce and roll modes of the mirror suspensions at ~9 Hz and 13.8 Hz, respectively.\n",
    "Violin modes for the suspensions that hang the beam splitter around 300, 600, and 900 Hz.\n",
    "\"\"\"\n",
    "from scipy.fft import fft, fftfreq\n",
    "from scipy.signal.windows import tukey\n",
    "\n",
    "\n",
    "\n",
    "# Number of sample points\n",
    "N = dataSample.size\n",
    "\n",
    "# sample spacing\n",
    "T = 1.0 / fs\n",
    "x = np.linspace(0.0, N*T, N, endpoint=False)\n",
    "\n",
    "#FFT\n",
    "yf = fft(dataSample)\n",
    "\n",
    "\n",
    "\n",
    "\"\"\"windowing operation\n",
    "En el paper ellos sugieren usan una ventana tapered cosine o tukey\n",
    "https://en.wikipedia.org/wiki/Window_function\n",
    "http://www.ece.northwestern.edu/local-apps/matlabhelp/toolbox/signal/tukeywin.html\n",
    "\"\"\"\n",
    "w = tukey(N, alpha=1./4 ) # window definition alpha=4 is used in papers\n",
    "ywf = fft(dataSample*w) #Window operation and FFT\n",
    "xf = fftfreq(N, T)\n",
    "\n",
    "#Power Density\n",
    "pdyf=np.abs(yf[1:N//2])**2 #no windows\n",
    "pdywf=np.abs(ywf[1:N//2])**2 #with window\n",
    "\n",
    "#logarithmic scale plot\n",
    "plt.figure(figsize=(8,2))\n",
    "plt.semilogy(xf[1:N//2], pdyf, '-b',linewidth=.5)\n",
    "plt.semilogy(xf[1:N//2],  pdywf, '-r',linewidth=.5)\n",
    "plt.legend(['FFT', 'FFT w. window'])\n",
    "plt.grid()\n",
    "plt.show()"
   ]
  }
 ],
 "metadata": {
  "language_info": {
   "name": "python"
  }
 },
 "nbformat": 4,
 "nbformat_minor": 2
}
